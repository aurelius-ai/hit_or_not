{
 "cells": [
  {
   "cell_type": "markdown",
   "metadata": {},
   "source": [
    "# PROJECT OF OLIVER ELLISON"
   ]
  },
  {
   "cell_type": "markdown",
   "metadata": {},
   "source": [
    "### Please convert your files to waveform, so they may be added to the dataset"
   ]
  },
  {
   "cell_type": "markdown",
   "metadata": {},
   "source": [
    "##### If you do not see the pop-up to browse for your music files, you may find it in your taskbar."
   ]
  },
  {
   "cell_type": "code",
   "execution_count": null,
   "metadata": {},
   "outputs": [],
   "source": [
    "#!/usr/bin/python\n",
    "\n",
    "import wx\n",
    "import os\n",
    "from pydub import AudioSegment\n",
    "\n",
    "class MyFrame(wx.Frame):\n",
    " def __init__(self, parent, id, title):\n",
    "  wx.Frame.__init__(self, parent, id, title, wx.DefaultPosition, wx.Size(360, 360), \n",
    "                    wx.SYSTEM_MENU | wx.CLOSE_BOX |\n",
    "  wx.CAPTION)\n",
    "  panel = wx.Panel(self, -1)\n",
    "  global text_ctrl\n",
    "  text_ctrl = wx.TextCtrl(panel, 6, pos=(20, 120), size=(300, 30))\n",
    "  text_ctrl.SetEditable(False)\n",
    "  wx.Button(panel, 1, \"BROWSE FOR A SONG\", pos=(20,160), size=(300,30))\n",
    "  wx.Button(panel, 3, \"CREATE A WAVEFORM\", pos=(20, 200), size=(300, 30))\n",
    "  wx.StaticText(panel, -1, 'STEP 1:  HIT-QUALITY IQ NEEDS TRAINING.', pos=(20, 25), style=wx.ALIGN_CENTRE)\n",
    "  wx.StaticText(panel, -1, 'CONVERT MP3s, MP4s, FLVs, and OGGs to WAVEFORM. ', pos=(20, 75), \n",
    "                style=wx.ALIGN_CENTRE)\n",
    "  wx.StaticText(panel, -1, 'LOCATE A SONG BELOW TO ADD TO THE TRAINING SET.', pos=(20, 100), \n",
    "                style=wx.ALIGN_CENTRE)\n",
    "\n",
    "  global gauge \n",
    "  gauge = wx.Gauge(panel, 4, 50, pos=(20, 250), size=(300, 30))\n",
    "  self.Bind(wx.EVT_BUTTON, self.Browse, id=1)\n",
    "  self.Bind(wx.EVT_BUTTON, self.Convert, id=3)\n",
    "\n",
    " #browse filesystem, allow selection of mp3, mp4, ogg, or flv.\n",
    " #reset progress\n",
    " def Browse(self, event):\n",
    "  wildcard = \"*.mp3;*.flv;*.wav;*.ogg;*.mp4\"\n",
    "  dialog = wx.FileDialog(None, \"Locate song\", os.getcwd(), \"\", wildcard, wx.FC_OPEN)\n",
    "  if dialog.ShowModal() == wx.ID_OK:\n",
    "   global path_to_file \n",
    "   path_to_file = dialog.GetPath()\n",
    "   text_ctrl.SetValue(path_to_file)\n",
    "   gauge.SetValue(0)\n",
    "    \n",
    " #full progress bar shows complete conversion\n",
    " def Convert(self, event):\n",
    "   panel = wx.Panel(self, -1)\n",
    "   converted_file = path_to_file[:len(path_to_file) - 4] + \".\" + \"wav\"\n",
    "   AudioSegment.from_file(path_to_file).export(converted_file, format=\"wav\")\n",
    "   gauge.SetValue(50)\n",
    "    \n",
    " #set progress bar value to 0\n",
    " def Reset(self, event):\n",
    "  gauge.SetValue(0)\n",
    "\n",
    "class MyApp(wx.App):\n",
    " def OnInit(self):\n",
    "  frame = MyFrame(None, -1, 'THANK YOU FOR ADDING MUSIC TO THE DATASET!')\n",
    "  frame.Show(True)\n",
    "  frame.Centre()\n",
    "  return True\n",
    "app = MyApp()\n",
    "app.MainLoop()\n"
   ]
  },
  {
   "cell_type": "code",
   "execution_count": null,
   "metadata": {},
   "outputs": [],
   "source": []
  },
  {
   "cell_type": "code",
   "execution_count": null,
   "metadata": {},
   "outputs": [],
   "source": []
  },
  {
   "cell_type": "code",
   "execution_count": null,
   "metadata": {},
   "outputs": [],
   "source": []
  },
  {
   "cell_type": "code",
   "execution_count": null,
   "metadata": {},
   "outputs": [],
   "source": []
  }
 ],
 "metadata": {
  "kernelspec": {
   "display_name": "Python 3",
   "language": "python",
   "name": "python3"
  },
  "language_info": {
   "codemirror_mode": {
    "name": "ipython",
    "version": 3
   },
   "file_extension": ".py",
   "mimetype": "text/x-python",
   "name": "python",
   "nbconvert_exporter": "python",
   "pygments_lexer": "ipython3",
   "version": "3.6.5"
  }
 },
 "nbformat": 4,
 "nbformat_minor": 2
}
